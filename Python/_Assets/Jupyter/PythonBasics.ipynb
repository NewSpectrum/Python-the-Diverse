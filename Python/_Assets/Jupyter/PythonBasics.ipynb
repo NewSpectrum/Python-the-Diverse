{
 "cells": [
  {
   "cell_type": "markdown",
   "metadata": {},
   "source": [
    "# Python Basics: Open Test Project\n",
    "\n",
    "Put simply: This project and the GitHub repositorty it's part of serve two purposes:\n",
    "1. First and foremost, the project itself is, more or less, a sandbox environment for anyone and everyone to play with.\n",
    "2. Using both this Jupyter Notebook and the GitHub Wiki (favoring the latter), the code samples from everyone who plays in the sandbox won't be the only resource you have here. I will be creating documentation as I learn, and I invite anyone who's willing to contribute- and if you don't have time/energy/patience to make detailed tutorials, just give me the highlights and I'll do the rest.\n",
    "\n",
    "### My name is Richard, and I'll be your Guide\n",
    "\n",
    "Maybe not right away. I'm barely starting myself- at least with Python. But don't worry. we got this."
   ]
  },
  {
   "cell_type": "code",
   "execution_count": 1,
   "metadata": {},
   "outputs": [],
   "source": [
    "SomeVariable = \"The Voices in my head sing together and they really, really can't harmonize.\""
   ]
  }
 ],
 "metadata": {
  "interpreter": {
   "hash": "c347c8f9a7ef94e4c9e03b4513be7835ed18f45b99a2a817fb579f408b867b16"
  },
  "kernelspec": {
   "display_name": "Python 3.9.7 64-bit",
   "language": "python",
   "name": "python3"
  },
  "language_info": {
   "codemirror_mode": {
    "name": "ipython",
    "version": 3
   },
   "file_extension": ".py",
   "mimetype": "text/x-python",
   "name": "python",
   "nbconvert_exporter": "python",
   "pygments_lexer": "ipython3",
   "version": "3.9.7"
  },
  "orig_nbformat": 4
 },
 "nbformat": 4,
 "nbformat_minor": 2
}
